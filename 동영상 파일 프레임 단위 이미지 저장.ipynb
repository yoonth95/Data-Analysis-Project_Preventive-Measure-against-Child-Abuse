{
 "cells": [
  {
   "cell_type": "code",
   "execution_count": null,
   "id": "expanded-baltimore",
   "metadata": {},
   "outputs": [],
   "source": [
    "import cv2\n",
    "\n",
    "vidcap = cv2.VideoCapture('./폭행.mp4')\n",
    "success,image = vidcap.read()\n",
    "\n",
    "count = 1\n",
    "success = True\n",
    "\n",
    "while success:\n",
    "    success,image = vidcap.read()\n",
    "    cv2.imwrite(\"./img/%d.jpg\" % count, image)\n",
    "    print(\"saved image %d.jpg\" % count)\n",
    "\n",
    "    if cv2.waitKey(10) == 27:                    \n",
    "        break\n",
    "    count += 1"
   ]
  }
 ],
 "metadata": {
  "kernelspec": {
   "display_name": "Python 3",
   "language": "python",
   "name": "python3"
  },
  "language_info": {
   "codemirror_mode": {
    "name": "ipython",
    "version": 3
   },
   "file_extension": ".py",
   "mimetype": "text/x-python",
   "name": "python",
   "nbconvert_exporter": "python",
   "pygments_lexer": "ipython3",
   "version": "3.8.8"
  }
 },
 "nbformat": 4,
 "nbformat_minor": 5
}
